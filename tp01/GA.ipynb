{
 "cells": [
  {
   "cell_type": "markdown",
   "metadata": {},
   "source": [
    "# TP1  L'algorithme génétique "
   ]
  },
  {
   "cell_type": "markdown",
   "metadata": {},
   "source": [
    "### L’algorithme génétique est constitué d'une population d’individus qui évolue par application des opérateurs génétiques issus de la théoriede Darwin. Chaque individu représente une solution candidate à un problème donné. Un codage binaire ou réel sera utilisé selon la nature du problème à résoudre. \n",
    "### L’algorithme génétique est itératif et commence avec une population initialisée  aléatoirement dans l’espace de recherche. \n",
    "### Durant chaque itération, la fitness de chaque individu de la population est évaluée; la fitness représente la fonction objective du problème qu’on veut optimiser.  Les individus de la population les mieux adaptés ont plus de cho  ix d’être sélectionnés pour être combinés et éventuellement mutés et former une nouvelle population qui sera par la suite utilisée dans la prochaine itération de l’algorithme. \n",
    "### L’algorithme se termine quand le nombre maximum des itérations est atteint."
   ]
  },
  {
   "cell_type": "markdown",
   "metadata": {},
   "source": [
    "##  Application de l'algorithme génétique pour l'optimisation de fonctions"
   ]
  },
  {
   "cell_type": "markdown",
   "metadata": {},
   "source": [
    "## On considère la fonction $$f(x)= 31x- x^2 $$  \n",
    "## $x$ est un entier et $x$ ε $[0,31]$\n",
    "\n",
    "## Proposer une implémentation d’un algorithme génétique AG avec un codage binaire pour trouver le maximum de la fonction f. \n",
    " "
   ]
  },
  {
   "cell_type": "code",
   "execution_count": 1,
   "metadata": {
    "colab": {
     "base_uri": "https://localhost:8080/"
    },
    "id": "J4FE9Rp6AL5P",
    "outputId": "9ed49fe5-3683-4471-e4a9-b0d9d7992caa"
   },
   "outputs": [],
   "source": [
    "import random\n",
    "import matplotlib.pyplot as pl\n",
    "import numpy as np\n",
    "import random\n",
    "import matplotlib.pyplot as pl\n",
    "import numpy as np\n",
    "\n"
   ]
  },
  {
   "cell_type": "code",
   "execution_count": 2,
   "metadata": {},
   "outputs": [],
   "source": [
    "## 1. Initialisation des paramètres de l'algorithme génétique"
   ]
  },
  {
   "cell_type": "code",
   "execution_count": 3,
   "metadata": {
    "id": "uqGVhjCzqBMG"
   },
   "outputs": [],
   "source": [
    "Npop = 50   # Taille population   (50 solutions candidates)\n",
    "n = 5    # longueur du chromosome   les 5 cases codent la solution\n",
    "Pr_cr = 0.9 # Probabilité de croisement\n",
    "Pr_mut = 0.01 # Probabilité de mutation\n",
    "Maxgen = 1000 # Nombre maximum d'itérations ou de générations\n"
   ]
  },
  {
   "cell_type": "code",
   "execution_count": 4,
   "metadata": {},
   "outputs": [],
   "source": [
    "## 2. Définition de la fonction à optimiser : la fitness"
   ]
  },
  {
   "cell_type": "code",
   "execution_count": 5,
   "metadata": {},
   "outputs": [],
   "source": [
    "# TODO\n",
    "def fitness(x):\n",
    "    return 31*x - x**2\n"
   ]
  },
  {
   "cell_type": "code",
   "execution_count": 6,
   "metadata": {},
   "outputs": [
    {
     "name": "stdout",
     "output_type": "stream",
     "text": [
      "58\n"
     ]
    }
   ],
   "source": [
    "print(fitness(2))"
   ]
  },
  {
   "cell_type": "code",
   "execution_count": 7,
   "metadata": {},
   "outputs": [],
   "source": [
    "## 3. Initialisation de la population "
   ]
  },
  {
   "cell_type": "code",
   "execution_count": 8,
   "metadata": {},
   "outputs": [
    {
     "name": "stdout",
     "output_type": "stream",
     "text": [
      "['11100', '10110', '00100', '00011', '10111', '01010', '10011', '00101', '01000', '11110', '00111', '11010', '01110', '01110', '00010', '01111', '00001', '01110', '01000', '11000', '00011', '01101', '01011', '01101', '10011', '01001', '00110', '10101', '11010', '11001', '11110', '11000', '10110', '00000', '00001', '00010', '10101', '00001', '10110', '11111', '11011', '00001', '10101', '11100', '11101', '11101', '00100', '00010', '01110', '11011']\n"
     ]
    }
   ],
   "source": [
    "#  la population est une matrice de dimension Npop*(n+1)\n",
    "#  un chromosome est une ligne de la matrice\n",
    "#  un chromosome est de dimension 1*(n+1)  :  n cases codent la solution et la (n+1)ieme code sa fitness\n",
    "# TODO\n",
    "def initiale_population(Npop):\n",
    "    population=[]\n",
    "    for x in range(Npop):\n",
    "        random_number = random.randint(0, 31)\n",
    "        random_number_binary = format(random_number, '05b')\n",
    "        population.append(random_number_binary)\n",
    "    return population\n",
    "print(initiale_population(Npop))\n"
   ]
  },
  {
   "cell_type": "code",
   "execution_count": 9,
   "metadata": {},
   "outputs": [],
   "source": [
    "## 4. Evaluation de la qualité de chaque solution "
   ]
  },
  {
   "cell_type": "code",
   "execution_count": 10,
   "metadata": {
    "id": "Zu0DUcyQp9jD"
   },
   "outputs": [
    {
     "name": "stdout",
     "output_type": "stream",
     "text": [
      "[184, 234, 220, 58, 30, 130, 220, 238, 0, 108, 220, 58, 240, 84, 150, 130, 84, 30, 198, 30, 130, 238, 130, 240, 238, 184, 228, 240, 220, 184, 150, 84, 58, 84, 210, 238, 84, 168, 84, 184, 234, 108, 0, 228, 228, 228, 210, 198, 220, 228]\n",
      "6942\n"
     ]
    }
   ],
   "source": [
    "# TODO\n",
    "def evaluation_population(population):\n",
    "    fitness_population = []\n",
    "    for y in population:\n",
    "        x = int(y, 2)  \n",
    "        z= fitness(x)\n",
    "        fitness_population.append(z)\n",
    "    return fitness_population\n",
    "\n",
    "print(evaluation_population(initiale_population(Npop)))\n",
    "print( sum(evaluation_population(initiale_population(Npop))))"
   ]
  },
  {
   "cell_type": "code",
   "execution_count": 11,
   "metadata": {},
   "outputs": [],
   "source": [
    "## 5. l'operateur selection par tournoi"
   ]
  },
  {
   "cell_type": "code",
   "execution_count": 12,
   "metadata": {},
   "outputs": [],
   "source": [
    "def tournament_selection(population):\n",
    "    selected = []\n",
    "    fitnesses = []\n",
    "\n",
    "    for i in population:\n",
    "        chr_int = int(i, 2)\n",
    "        chr_fitness = fitness(chr_int)\n",
    "\n",
    "        fitnesses.append(chr_fitness)\n",
    "\n",
    "    total_fitness = sum(fitnesses)\n",
    "\n",
    "    probability_fitness = []\n",
    "\n",
    "    cumulative_fitnesses = np.cumsum([f / total_fitness for f in fitnesses])\n",
    "\n",
    "    for _ in population:\n",
    "        r = random.random()\n",
    "        for i, cumulative_fitness in enumerate(cumulative_fitnesses):\n",
    "            if r < cumulative_fitness:\n",
    "                selected.append(population[i])\n",
    "                break\n",
    "    \n",
    "    return selected"
   ]
  },
  {
   "cell_type": "code",
   "execution_count": 13,
   "metadata": {},
   "outputs": [],
   "source": [
    "## 6. L'opérateur crossover"
   ]
  },
  {
   "cell_type": "code",
   "execution_count": 14,
   "metadata": {},
   "outputs": [],
   "source": [
    "def crossover(population, Pr_cr):\n",
    "    descendants = []\n",
    "\n",
    "    for i in range(0, len(population), 2):\n",
    "        generation1 = population[i]\n",
    "        generation2 = population[i + 1] if i + 1 < len(population) else population[i]\n",
    "\n",
    "        if random.random() < Pr_cr:\n",
    "            crossover_point = random.randint(1, len(generation1) - 1)\n",
    "            new_generation1 = generation1[:crossover_point] + generation2[crossover_point:]\n",
    "            new_generation2 = generation2[:crossover_point] + generation1[crossover_point:]\n",
    "        else:\n",
    "            new_generation1, new_generation2 = generation1, generation2\n",
    "\n",
    "        descendants.extend([new_generation1, new_generation2])\n",
    "\n",
    "    return descendants"
   ]
  },
  {
   "cell_type": "code",
   "execution_count": 15,
   "metadata": {},
   "outputs": [],
   "source": [
    "## 7. L'opérateur de mutation"
   ]
  },
  {
   "cell_type": "code",
   "execution_count": 16,
   "metadata": {},
   "outputs": [],
   "source": [
    "# Fonction d'opérateur de mutation\n",
    "# TODO\n",
    "def mutation(population, Pr_mut):\n",
    "    mutated_population = []\n",
    "    # x= random.random()\n",
    "\n",
    "    for chr in population:\n",
    "        mutated_chr = \"\"\n",
    "        \n",
    "        for gene in chr:\n",
    "            if random.random() <= Pr_mut:\n",
    "                mutated_gene = \"0\" if gene == \"1\" else \"1\"\n",
    "            else:\n",
    "                mutated_gene = gene\n",
    "            \n",
    "            mutated_chr += mutated_gene\n",
    "        \n",
    "        mutated_population.append(mutated_chr)\n",
    "\n",
    "    return mutated_population\n",
    "    \n",
    "    \n"
   ]
  },
  {
   "cell_type": "code",
   "execution_count": 17,
   "metadata": {
    "id": "gcD-3sIBoy68"
   },
   "outputs": [],
   "source": [
    "## 8. le programme principal"
   ]
  },
  {
   "cell_type": "code",
   "execution_count": 18,
   "metadata": {},
   "outputs": [
    {
     "data": {
      "text/plain": [
       "[<matplotlib.lines.Line2D at 0x2024f9dc110>]"
      ]
     },
     "execution_count": 18,
     "metadata": {},
     "output_type": "execute_result"
    },
    {
     "data": {
      "image/png": "[encoded data removed]",
      "text/plain": [
       "<Figure size 640x480 with 1 Axes>"
      ]
     },
     "metadata": {},
     "output_type": "display_data"
    }
   ],
   "source": [
    "\n",
    "fit=[]   # contient le maximum fitness obtenue durant les 10 exécutions\n",
    "for run in range(10):\n",
    "    # génération de la population initiale\n",
    "    population = initiale_population(Npop)\n",
    "    # programme principal de l'algorithme genetique\n",
    "    gen = 0\n",
    "    while gen < Maxgen:\n",
    "        # Evaluation\n",
    "        fitness_population = evaluation_population(population)\n",
    "         \n",
    "        # selection\n",
    "        selected_population = tournament_selection(population)\n",
    "         \n",
    "        # crossover \n",
    "        crossover_population = crossover(selected_population, Pr_cr)\n",
    "         \n",
    "        # mutation\n",
    "        mutated_population = mutation(crossover_population, Pr_mut)\n",
    "         \n",
    "        # remplacement\n",
    "        population = mutated_population\n",
    "         \n",
    "        gen += 1\n",
    "    \n",
    "    max_value = max(population, key=lambda ind: fitness(int(ind, 2)))\n",
    "    fit.append(fitness(int(max_value, 2)))  \n",
    "        \n",
    "pl.plot(fit)\n",
    "     \n",
    "    \n",
    "\n"
   ]
  },
  {
   "cell_type": "code",
   "execution_count": 19,
   "metadata": {},
   "outputs": [
    {
     "name": "stdout",
     "output_type": "stream",
     "text": [
      "la solution moyenne trouvée= 239.6\n"
     ]
    }
   ],
   "source": [
    "# Afficher la solution moyenne \n",
    "\n",
    "average=np.mean(fit)\n",
    " \n",
    "print(\"la solution moyenne trouvée=\",average)"
   ]
  },
  {
   "cell_type": "code",
   "execution_count": null,
   "metadata": {},
   "outputs": [],
   "source": []
  }
 ],
 "metadata": {
  "colab": {
   "provenance": []
  },
  "kernelspec": {
   "display_name": "Python 3",
   "language": "python",
   "name": "python3"
  },
  "language_info": {
   "codemirror_mode": {
    "name": "ipython",
    "version": 3
   },
   "file_extension": ".py",
   "mimetype": "text/x-python",
   "name": "python",
   "nbconvert_exporter": "python",
   "pygments_lexer": "ipython3",
   "version": "3.11.5"
  }
 },
 "nbformat": 4,
 "nbformat_minor": 1
}
