{
 "cells": [
  {
   "cell_type": "code",
   "execution_count": 43,
   "metadata": {},
   "outputs": [
    {
     "name": "stdout",
     "output_type": "stream",
     "text": [
      "Accuracy with all features: 0.0\n"
     ]
    },
    {
     "name": "stderr",
     "output_type": "stream",
     "text": [
      "c:\\Users\\User\\anaconda3\\Lib\\site-packages\\sklearn\\neural_network\\_multilayer_perceptron.py:691: ConvergenceWarning: Stochastic Optimizer: Maximum iterations (1000) reached and the optimization hasn't converged yet.\n",
      "  warnings.warn(\n"
     ]
    }
   ],
   "source": [
    "from sklearn.neural_network import MLPClassifier\n",
    "from sklearn.metrics import accuracy_score\n",
    "from sklearn.datasets import load_diabetes\n",
    "from sklearn.model_selection import train_test_split\n",
    "\n",
    "# Load the Diabetes dataset\n",
    "diabetes_data = load_diabetes()\n",
    "\n",
    "# Extract features and target variable\n",
    "X = diabetes_data.data  # Features\n",
    "y = diabetes_data.target  # Target variable\n",
    "\n",
    "# Split data into train and test sets\n",
    "X_train, X_test, y_train, y_test = train_test_split(X, y, test_size=0.2, random_state=42)\n",
    "\n",
    "# Initialize MLP Classifier\n",
    "mlp_classifier = MLPClassifier(random_state=42, max_iter=1000)\n",
    "\n",
    "# Fit the model with all features\n",
    "mlp_classifier.fit(X_train, y_train)\n",
    "\n",
    "# Predict the test set results\n",
    "y_pred = mlp_classifier.predict(X_test)\n",
    "\n",
    "# Calculate the accuracy of the model with all features\n",
    "acc_original = accuracy_score(y_test, y_pred)\n",
    "\n",
    "print(f\"Accuracy with all features: {acc_original}\")"
   ]
  },
  {
   "cell_type": "code",
   "execution_count": 46,
   "metadata": {},
   "outputs": [
    {
     "name": "stdout",
     "output_type": "stream",
     "text": [
      "Accuracy with all features: 0.0\n"
     ]
    },
    {
     "name": "stderr",
     "output_type": "stream",
     "text": [
      "c:\\Users\\User\\anaconda3\\Lib\\site-packages\\sklearn\\neural_network\\_multilayer_perceptron.py:691: ConvergenceWarning: Stochastic Optimizer: Maximum iterations (100) reached and the optimization hasn't converged yet.\n",
      "  warnings.warn(\n"
     ]
    }
   ],
   "source": [
    "from sklearn.neural_network import MLPClassifier\n",
    "from sklearn.metrics import accuracy_score\n",
    "from sklearn.datasets import load_diabetes\n",
    "from sklearn.model_selection import train_test_split\n",
    "\n",
    "# Charger le dataset Diabetes\n",
    "diabetes_data = load_diabetes()\n",
    "\n",
    "# Extraire les caractéristiques (features) et la variable cible (target)\n",
    "X = diabetes_data.data  # Features\n",
    "y = diabetes_data.target  # Target variable\n",
    "\n",
    "# Diviser les données en ensembles d'entraînement et de test\n",
    "X_train, X_test, y_train, y_test = train_test_split(X, y, test_size=0.2, random_state=42)\n",
    "\n",
    "# Initialiser le classificateur MLP\n",
    "mlp_classifier = MLPClassifier(random_state=42, max_iter=100)\n",
    "\n",
    "# Entraîner le modèle avec toutes les features\n",
    "mlp_classifier.fit(X_train, y_train)\n",
    "\n",
    "# Prédire les résultats de l'ensemble de test\n",
    "y_pred = mlp_classifier.predict(X_test)\n",
    "\n",
    "# Calculer l'accuracy du modèle avec toutes les features\n",
    "acc_original = accuracy_score(y_test, y_pred)\n",
    "\n",
    "print(f\"Accuracy with all features: {acc_original}\")\n"
   ]
  },
  {
   "cell_type": "code",
   "execution_count": 47,
   "metadata": {},
   "outputs": [
    {
     "name": "stdout",
     "output_type": "stream",
     "text": [
      "Chromosome: [0 0 1 1 0 0 1 1 1 0]\n"
     ]
    }
   ],
   "source": [
    "import numpy as np\n",
    "\n",
    "n_features = X.shape[1]  # Nombre de caractéristiques\n",
    "chromosome = np.random.randint(2, size=n_features)  # Générer un chromosome binaire aléatoire\n",
    "\n",
    "print(f\"Chromosome: {chromosome}\")"
   ]
  }
 ],
 "metadata": {
  "kernelspec": {
   "display_name": "base",
   "language": "python",
   "name": "python3"
  },
  "language_info": {
   "codemirror_mode": {
    "name": "ipython",
    "version": 3
   },
   "file_extension": ".py",
   "mimetype": "text/x-python",
   "name": "python",
   "nbconvert_exporter": "python",
   "pygments_lexer": "ipython3",
   "version": "3.11.5"
  }
 },
 "nbformat": 4,
 "nbformat_minor": 2
}
